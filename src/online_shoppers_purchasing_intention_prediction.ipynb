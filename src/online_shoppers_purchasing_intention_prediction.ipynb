{
 "cells": [
  {
   "cell_type": "markdown",
   "id": "7bf9e9fc",
   "metadata": {},
   "source": [
    "# Online Shoppers Purchasing Intention Prediction\n",
    "Authors: Julian Daduica, Stephanie Ta, and Wai Ming Wong"
   ]
  },
  {
   "cell_type": "code",
   "execution_count": 29,
   "id": "271a0fe8-c2b4-45c0-af4d-f4bd26111206",
   "metadata": {},
   "outputs": [],
   "source": [
    "from ucimlrepo import fetch_ucirepo # raw data is from this package\n",
    "import pandas as pd\n",
    "import altair as alt\n",
    "from sklearn.model_selection import train_test_split, cross_validate\n",
    "from sklearn.dummy import DummyClassifier\n",
    "from sklearn.preprocessing import StandardScaler, OneHotEncoder, OrdinalEncoder\n",
    "from sklearn.linear_model import LogisticRegression\n",
    "from sklearn.compose import make_column_transformer\n",
    "from sklearn.pipeline import make_pipeline\n",
    "from sklearn.model_selection import RandomizedSearchCV\n",
    "from scipy.stats import loguniform"
   ]
  },
  {
   "cell_type": "markdown",
   "id": "ee256c0b",
   "metadata": {},
   "source": [
    "## Summary"
   ]
  },
  {
   "cell_type": "markdown",
   "id": "6015645c",
   "metadata": {},
   "source": []
  },
  {
   "cell_type": "markdown",
   "id": "cb1daa83",
   "metadata": {},
   "source": [
    "## Introduction"
   ]
  },
  {
   "cell_type": "markdown",
   "id": "c365b099",
   "metadata": {},
   "source": []
  },
  {
   "cell_type": "markdown",
   "id": "df9c8aba",
   "metadata": {},
   "source": [
    "## Methods"
   ]
  },
  {
   "cell_type": "markdown",
   "id": "82cb6af3",
   "metadata": {},
   "source": [
    "### Data"
   ]
  },
  {
   "cell_type": "markdown",
   "id": "b6010aa8",
   "metadata": {},
   "source": []
  },
  {
   "cell_type": "markdown",
   "id": "8384069a",
   "metadata": {},
   "source": [
    "### Analysis"
   ]
  },
  {
   "cell_type": "markdown",
   "id": "20792259",
   "metadata": {},
   "source": []
  },
  {
   "cell_type": "markdown",
   "id": "c7ae024c",
   "metadata": {},
   "source": [
    "## Results and Discussion"
   ]
  },
  {
   "cell_type": "code",
   "execution_count": 3,
   "id": "57ae0ef8-6c83-44d8-ae5f-7bcf3a6d1cc7",
   "metadata": {},
   "outputs": [
    {
     "name": "stdout",
     "output_type": "stream",
     "text": [
      "                       name     role         type demographic description  \\\n",
      "0            Administrative  Feature      Integer        None        None   \n",
      "1   Administrative_Duration  Feature      Integer        None        None   \n",
      "2             Informational  Feature      Integer        None        None   \n",
      "3    Informational_Duration  Feature      Integer        None        None   \n",
      "4            ProductRelated  Feature      Integer        None        None   \n",
      "5   ProductRelated_Duration  Feature   Continuous        None        None   \n",
      "6               BounceRates  Feature   Continuous        None        None   \n",
      "7                 ExitRates  Feature   Continuous        None        None   \n",
      "8                PageValues  Feature      Integer        None        None   \n",
      "9                SpecialDay  Feature      Integer        None        None   \n",
      "10                    Month  Feature  Categorical        None        None   \n",
      "11         OperatingSystems  Feature      Integer        None        None   \n",
      "12                  Browser  Feature      Integer        None        None   \n",
      "13                   Region  Feature      Integer        None        None   \n",
      "14              TrafficType  Feature      Integer        None        None   \n",
      "15              VisitorType  Feature  Categorical        None        None   \n",
      "16                  Weekend  Feature       Binary        None        None   \n",
      "17                  Revenue   Target       Binary        None        None   \n",
      "\n",
      "   units missing_values  \n",
      "0   None             no  \n",
      "1   None             no  \n",
      "2   None             no  \n",
      "3   None             no  \n",
      "4   None             no  \n",
      "5   None             no  \n",
      "6   None             no  \n",
      "7   None             no  \n",
      "8   None             no  \n",
      "9   None             no  \n",
      "10  None             no  \n",
      "11  None             no  \n",
      "12  None             no  \n",
      "13  None             no  \n",
      "14  None             no  \n",
      "15  None             no  \n",
      "16  None             no  \n",
      "17  None             no  \n"
     ]
    }
   ],
   "source": [
    "#Dataset importing script from UCI ML Repository\n",
    "# fetch dataset \n",
    "online_shoppers_purchasing_intention_dataset = fetch_ucirepo(id=468) \n",
    "\n",
    "# data (as pandas dataframes) and save it as csv\n",
    "X = online_shoppers_purchasing_intention_dataset.data.features \n",
    "y = online_shoppers_purchasing_intention_dataset.data.targets\n",
    "df = pd.concat([X, y], axis=1)\n",
    "df.to_csv(\"../data/raw/raw_df.csv\")\n",
    "\n",
    "# variable information \n",
    "print(online_shoppers_purchasing_intention_dataset.variables) \n",
    "\n",
    "# split the training set and testing set and save them as csv files\n",
    "train_df, test_df = train_test_split(df, test_size=0.3, random_state=123)\n",
    "train_df.to_csv(\"../data/processed/train_df.csv\")\n",
    "test_df.to_csv(\"../data/processed/test_df.csv\")\n",
    "\n",
    "# split X, y in the training set and testing set\n",
    "X_train = train_df.drop(columns=[\"Revenue\"])\n",
    "X_test = test_df.drop(columns=[\"Revenue\"])\n",
    "y_train = train_df[\"Revenue\"]\n",
    "y_test = test_df[\"Revenue\"]\n"
   ]
  },
  {
   "cell_type": "code",
   "execution_count": null,
   "id": "f91de536",
   "metadata": {},
   "outputs": [],
   "source": []
  },
  {
   "cell_type": "code",
   "execution_count": null,
   "id": "73852cdb",
   "metadata": {},
   "outputs": [],
   "source": []
  },
  {
   "cell_type": "code",
   "execution_count": null,
   "id": "0e86f714",
   "metadata": {},
   "outputs": [],
   "source": []
  },
  {
   "cell_type": "code",
   "execution_count": null,
   "metadata": {},
   "outputs": [],
   "source": [
    "#X_train = train_df.drop(columns=[\"Revenue\"])\n",
    "#X_test = test_df.drop(columns=[\"Revenue\"])\n",
    "#y_train = train_df[\"Revenue\"]\n",
    "#y_test = test_df[\"Revenue\"]"
   ]
  },
  {
   "cell_type": "code",
   "execution_count": 7,
   "id": "76a79eb7",
   "metadata": {},
   "outputs": [
    {
     "data": {
      "text/plain": [
       "np.float64(0.8494960081213042)"
      ]
     },
     "execution_count": 7,
     "metadata": {},
     "output_type": "execute_result"
    }
   ],
   "source": [
    "# create baseline model to compare final model to\n",
    "dummy_classifier = DummyClassifier()\n",
    "dummy_classifier.fit(X_train, y_train)\n",
    "dummy_cv_scores = pd.DataFrame(\n",
    "    cross_validate(dummy_classifier, X_train, y_train, cv = 5, return_train_score = True))\n",
    "mean_dummy_validation_accuracy = dummy_cv_scores['test_score'].mean()\n",
    "mean_dummy_validation_accuracy"
   ]
  },
  {
   "cell_type": "code",
   "execution_count": 22,
   "id": "86681c61",
   "metadata": {},
   "outputs": [],
   "source": [
    "# lists of each type of feature\n",
    "numeric_cols = ['Administrative', 'Administrative_Duration',\n",
    "                'Informational', 'Informational_Duration',\n",
    "                'ProductRelated', 'ProductRelated_Duration',\n",
    "                'BounceRates', 'ExitRates',\n",
    "                'PageValues', 'SpecialDay']\n",
    "categorical_cols = ['Weekend', 'OperatingSystems',\n",
    "                    'Browser', 'Region',\n",
    "                    'TrafficType', 'VisitorType']\n",
    "ordinal_cols = ['Month']"
   ]
  },
  {
   "cell_type": "code",
   "execution_count": 31,
   "id": "9f02f74e",
   "metadata": {},
   "outputs": [],
   "source": [
    "# make preproccessor, note imputation is not needed since there are no null values in the data set\n",
    "month_levels = ['Jan', 'Feb', 'Mar', 'Apr', 'May', 'June', 'Jul', 'Aug', 'Sep', 'Oct', 'Nov', 'Dec']\n",
    "\n",
    "preprocessor = make_column_transformer(\n",
    "    (StandardScaler(), numeric_cols),\n",
    "    (OneHotEncoder(drop='if_binary', sparse_output=False, handle_unknown='ignore'), categorical_cols),\n",
    "    (OrdinalEncoder(categories=[month_levels]), ordinal_cols)\n",
    ")"
   ]
  },
  {
   "cell_type": "code",
   "execution_count": 32,
   "id": "666d6b8f",
   "metadata": {},
   "outputs": [],
   "source": [
    "# make pipeline including preprocessor and logistic regression model\n",
    "log_reg_pipe = make_pipeline(\n",
    "    preprocessor, LogisticRegression(max_iter=2000, random_state=123)\n",
    ")"
   ]
  },
  {
   "cell_type": "code",
   "execution_count": 34,
   "id": "cd1cb269",
   "metadata": {},
   "outputs": [
    {
     "name": "stdout",
     "output_type": "stream",
     "text": [
      "Fitting 5 folds for each of 100 candidates, totalling 500 fits\n",
      "Best hyperparameter value:  {'logisticregression__C': np.float64(0.916453820211066)}\n",
      "Best score: 0.887\n"
     ]
    }
   ],
   "source": [
    "# tune hyperparameter C of the logistic regression model\n",
    "param_grid = {\n",
    "    \"logisticregression__C\": loguniform(1e-3, 1e3),\n",
    "}\n",
    "\n",
    "random_search = RandomizedSearchCV(\n",
    "    log_reg_pipe,\n",
    "    param_grid,\n",
    "    n_iter=100,\n",
    "    verbose=1,\n",
    "    n_jobs=-1,\n",
    "    random_state=123,\n",
    "    return_train_score=True,\n",
    ")\n",
    "\n",
    "random_search.fit(X_train, y_train)\n",
    "\n",
    "print(\"Best hyperparameter value: \", random_search.best_params_)\n",
    "print(\"Best score: %0.3f\" % (random_search.best_score_))"
   ]
  },
  {
   "cell_type": "code",
   "execution_count": null,
   "id": "14bf5cd9",
   "metadata": {},
   "outputs": [],
   "source": []
  },
  {
   "cell_type": "code",
   "execution_count": null,
   "id": "192f53bc",
   "metadata": {},
   "outputs": [],
   "source": []
  },
  {
   "cell_type": "markdown",
   "id": "6922c932",
   "metadata": {},
   "source": [
    "## References"
   ]
  },
  {
   "cell_type": "markdown",
   "id": "49e50258",
   "metadata": {},
   "source": []
  }
 ],
 "metadata": {
  "kernelspec": {
   "display_name": "base",
   "language": "python",
   "name": "python3"
  },
  "language_info": {
   "codemirror_mode": {
    "name": "ipython",
    "version": 3
   },
   "file_extension": ".py",
   "mimetype": "text/x-python",
   "name": "python",
   "nbconvert_exporter": "python",
   "pygments_lexer": "ipython3",
   "version": "3.11.9"
  }
 },
 "nbformat": 4,
 "nbformat_minor": 5
}
